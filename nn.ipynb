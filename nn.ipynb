{
 "cells": [
  {
   "cell_type": "code",
   "execution_count": 1,
   "metadata": {},
   "outputs": [],
   "source": [
    "from nn.neural_network import NeuralNetwork\n",
    "\n",
    "import pandas as pd\n",
    "import numpy as np\n",
    "import scipy as sc\n",
    "import matplotlib.pyplot as plt\n",
    "from sklearn.datasets import make_circles"
   ]
  },
  {
   "cell_type": "code",
   "execution_count": 2,
   "metadata": {},
   "outputs": [
    {
     "data": {
      "image/png": "[encoded data removed]",
      "text/plain": [
       "<Figure size 576x576 with 1 Axes>"
      ]
     },
     "metadata": {},
     "output_type": "display_data"
    }
   ],
   "source": [
    "# Creamos nuestros datos artificiales, donde buscaremos clasificar \n",
    "# dos anillos concéntricos de datos. \n",
    "X, y = make_circles(n_samples=500, factor=0.5, noise=0.05)\n",
    "\n",
    "# Visualización del mapa de predicción.\n",
    "plt.figure(figsize=(8, 8))\n",
    "\n",
    "# Visualización de la nube de datos.\n",
    "plt.scatter(X[y == 0,0], X[y == 0,1], c=\"skyblue\")\n",
    "plt.scatter(X[y == 1,0], X[y == 1,1], c=\"salmon\")\n",
    "\n",
    "plt.tick_params(labelbottom=False, labelleft=False)"
   ]
  },
  {
   "cell_type": "code",
   "execution_count": 3,
   "metadata": {},
   "outputs": [
    {
     "data": {
      "text/plain": [
       "0    250\n",
       "1    250\n",
       "dtype: int64"
      ]
     },
     "execution_count": 3,
     "metadata": {},
     "output_type": "execute_result"
    }
   ],
   "source": [
    "pd.DataFrame(y).value_counts()"
   ]
  },
  {
   "cell_type": "code",
   "execution_count": 4,
   "metadata": {},
   "outputs": [],
   "source": [
    "model = NeuralNetwork(loss_f='mse')\n",
    "\n",
    "model.add_layer(n_conn=X.shape[1], n_neur=3, act_f='sigmoid')\n",
    "model.add_layer(n_neur=1, act_f='sigmoid')"
   ]
  },
  {
   "cell_type": "code",
   "execution_count": 5,
   "metadata": {},
   "outputs": [],
   "source": [
    "model.fit(X, y, epoch=2500, lr=0.01)\n",
    "yp = model.predict(X)"
   ]
  },
  {
   "cell_type": "code",
   "execution_count": 6,
   "metadata": {},
   "outputs": [
    {
     "data": {
      "text/plain": [
       "0.49990453692372977"
      ]
     },
     "execution_count": 6,
     "metadata": {},
     "output_type": "execute_result"
    }
   ],
   "source": [
    "model.loss_f[0](yp, y[:,np.newaxis])"
   ]
  },
  {
   "cell_type": "code",
   "execution_count": 7,
   "metadata": {},
   "outputs": [
    {
     "data": {
      "text/plain": [
       "0.49990453692372977"
      ]
     },
     "execution_count": 7,
     "metadata": {},
     "output_type": "execute_result"
    }
   ],
   "source": [
    "model.loss_f[0](yp, y[:,np.newaxis])"
   ]
  },
  {
   "cell_type": "code",
   "execution_count": 12,
   "metadata": {},
   "outputs": [],
   "source": [
    "a = np.array([\n",
    "    [1],\n",
    "    [2],\n",
    "    [4],\n",
    "    [5],\n",
    "    [6],\n",
    "    [7],\n",
    "    [77],\n",
    "    [22],\n",
    "])\n",
    "\n",
    "b = np.array([\n",
    "    [13],\n",
    "    [24],\n",
    "    [45],\n",
    "    [53],\n",
    "    [62],\n",
    "    [75],\n",
    "    [77],\n",
    "    [22]\n",
    "])"
   ]
  },
  {
   "cell_type": "code",
   "execution_count": 13,
   "metadata": {},
   "outputs": [
    {
     "data": {
      "text/plain": [
       "1546.625"
      ]
     },
     "execution_count": 13,
     "metadata": {},
     "output_type": "execute_result"
    }
   ],
   "source": [
    "np.mean((b - a) ** 2)"
   ]
  },
  {
   "cell_type": "code",
   "execution_count": 14,
   "metadata": {},
   "outputs": [],
   "source": [
    "c = np.array([\n",
    "    [1],\n",
    "    [2],\n",
    "    [4],\n",
    "    [5],\n",
    "    [6],\n",
    "    [7],\n",
    "    [77],\n",
    "    [22],\n",
    "])\n",
    "\n",
    "d = np.array([\n",
    "    13,\n",
    "    24,\n",
    "    45,\n",
    "    53,\n",
    "    62,\n",
    "    75,\n",
    "    77,\n",
    "    22\n",
    "])"
   ]
  },
  {
   "cell_type": "code",
   "execution_count": 15,
   "metadata": {},
   "outputs": [
    {
     "data": {
      "text/plain": [
       "1546.625"
      ]
     },
     "execution_count": 15,
     "metadata": {},
     "output_type": "execute_result"
    }
   ],
   "source": [
    "np.mean((d - c) ** 2)"
   ]
  },
  {
   "cell_type": "code",
   "execution_count": null,
   "metadata": {},
   "outputs": [],
   "source": []
  },
  {
   "cell_type": "code",
   "execution_count": null,
   "metadata": {},
   "outputs": [],
   "source": []
  }
 ],
 "metadata": {
  "kernelspec": {
   "display_name": "Python 3.10.5 64-bit (windows store)",
   "language": "python",
   "name": "python3"
  },
  "language_info": {
   "codemirror_mode": {
    "name": "ipython",
    "version": 3
   },
   "file_extension": ".py",
   "mimetype": "text/x-python",
   "name": "python",
   "nbconvert_exporter": "python",
   "pygments_lexer": "ipython3",
   "version": "3.10.5"
  },
  "orig_nbformat": 4,
  "vscode": {
   "interpreter": {
    "hash": "f6cd4f1a4d690f61f0a66f0d752ec615604a1e9c7dfcdfc555308c3b0255f392"
   }
  }
 },
 "nbformat": 4,
 "nbformat_minor": 2
}
