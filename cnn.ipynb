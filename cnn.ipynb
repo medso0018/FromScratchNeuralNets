{
 "cells": [
  {
   "cell_type": "code",
   "execution_count": null,
   "metadata": {},
   "outputs": [],
   "source": [
    "import matplotlib.pyplot as plt\n",
    "import numpy as np\n",
    "import numpy as np\n",
    "from keras.datasets import mnist\n",
    "from keras.utils import np_utils\n",
    "\n",
    "from nn.neural_network import NeuralNetwork\n",
    "from nn.layers import Input, Convolutional, Reshape, Dense"
   ]
  },
  {
   "cell_type": "code",
   "execution_count": null,
   "metadata": {},
   "outputs": [],
   "source": [
    "def preprocess_data(x, y, limit):\n",
    "    indexes = []\n",
    "    n = 10\n",
    "    for i in range(n):\n",
    "        indexes.append(np.where(y == i)[0][:limit])\n",
    "\n",
    "    all_indices = np.hstack(indexes)\n",
    "    all_indices = np.random.permutation(all_indices)\n",
    "    x, y = x[all_indices], y[all_indices]\n",
    "    x = x.reshape(len(x), 1, 28, 28)\n",
    "    x = x.astype(\"float32\") / 255\n",
    "    y = np_utils.to_categorical(y)\n",
    "    y = y.reshape(len(y), n, 1)\n",
    "    return x, y"
   ]
  },
  {
   "cell_type": "code",
   "execution_count": null,
   "metadata": {},
   "outputs": [],
   "source": [
    "# get dataset and split it into two datasets (training, testing)\n",
    "np.random.seed(15)\n",
    "(x_train, y_train), (x_test, y_test) = mnist.load_data()\n",
    "\n",
    "# preprocessing the data\n",
    "x_train, y_train = preprocess_data(x_train, y_train, 100)\n",
    "x_test, y_test = preprocess_data(x_test, y_test, 10)\n",
    "\n",
    "# set of images\n",
    "images = x_test.copy()"
   ]
  },
  {
   "cell_type": "code",
   "execution_count": null,
   "metadata": {},
   "outputs": [],
   "source": [
    "# build the convolutional neural network\n",
    "model = NeuralNetwork(loss_f='MSE')\n",
    "\n",
    "# adding layers\n",
    "model.add_layer(Input(input_shape=x_train.shape[1:]))\n",
    "model.add_layer(Convolutional(kernel_size=3, depth=3, act_f='sigmoid'))\n",
    "model.add_layer(Convolutional(kernel_size=4, depth=1, act_f='sigmoid'))\n",
    "model.add_layer(Reshape())\n",
    "model.add_layer(Dense(n_neur=30, act_f='sigmoid'))\n",
    "model.add_layer(Dense(n_neur=20, act_f='sigmoid'))\n",
    "model.add_layer(Dense(n_neur=10, act_f='sigmoid'))\n",
    "\n",
    "# get the summary of the model\n",
    "model.summary()"
   ]
  },
  {
   "cell_type": "code",
   "execution_count": null,
   "metadata": {},
   "outputs": [],
   "source": [
    "# training\n",
    "loss = model.fit(x_train, y_train, epochs=600, lr=0.01)\n",
    "\n",
    "# plot the loss curve\n",
    "plt.figure(figsize=(10, 6))\n",
    "plt.plot(list(range(len(loss))), loss)\n",
    "plt.title('Loss curve')\n",
    "plt.show()"
   ]
  },
  {
   "cell_type": "code",
   "execution_count": null,
   "metadata": {},
   "outputs": [],
   "source": [
    "# evaluation\n",
    "yp = model.predict(x_test)\n",
    "count = 0\n",
    "for i in range(len(yp)):\n",
    "    pred = np.argmax(yp[i])\n",
    "    true = np.argmax(y_test[i])\n",
    "    if pred == true: count = count + 1\n",
    "\n",
    "# print the accuracy of the model\n",
    "print(f'Accuracy: {count / len(yp) * 100}%')"
   ]
  },
  {
   "cell_type": "code",
   "execution_count": null,
   "metadata": {},
   "outputs": [],
   "source": [
    "# show images and their predicted class\n",
    "fig, axes = plt.subplots(10,10, figsize=(20,20))\n",
    "fig.tight_layout()\n",
    "for i,ax in enumerate(axes.flat):\n",
    "    ax.imshow(images[i][0])\n",
    "    ax.title.set_text(f'Prediction: {np.argmax(yp[i])}')"
   ]
  }
 ],
 "metadata": {
  "kernelspec": {
   "display_name": "Python 3.10.6 64-bit (windows store)",
   "language": "python",
   "name": "python3"
  },
  "language_info": {
   "codemirror_mode": {
    "name": "ipython",
    "version": 3
   },
   "file_extension": ".py",
   "mimetype": "text/x-python",
   "name": "python",
   "nbconvert_exporter": "python",
   "pygments_lexer": "ipython3",
   "version": "3.10.6"
  },
  "orig_nbformat": 4,
  "vscode": {
   "interpreter": {
    "hash": "f6cd4f1a4d690f61f0a66f0d752ec615604a1e9c7dfcdfc555308c3b0255f392"
   }
  }
 },
 "nbformat": 4,
 "nbformat_minor": 2
}
