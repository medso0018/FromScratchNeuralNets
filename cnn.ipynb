{
 "cells": [
  {
   "cell_type": "code",
   "execution_count": 1,
   "metadata": {},
   "outputs": [],
   "source": [
    "from nn.neural_network import NeuralNetwork\n",
    "import matplotlib.pyplot as plt\n",
    "\n",
    "import pandas as pd\n",
    "import numpy as np\n",
    "\n",
    "from nn.layers import Input, Convolutional, Dense, Reshape\n",
    "\n",
    "import numpy as np\n",
    "from keras.datasets import mnist\n",
    "from keras.utils import np_utils"
   ]
  },
  {
   "cell_type": "code",
   "execution_count": 2,
   "metadata": {},
   "outputs": [],
   "source": [
    "def preprocess_data(x, y, limit):\n",
    "    indexes = []\n",
    "    n = 2\n",
    "    for i in range(n):\n",
    "        indexes.append(np.where(y == i)[0][:limit])\n",
    "\n",
    "    all_indices = np.hstack(indexes)\n",
    "    all_indices = np.random.permutation(all_indices)\n",
    "    x, y = x[all_indices], y[all_indices]\n",
    "    x = x.reshape(len(x), 1, 28, 28)\n",
    "    x = x.astype(\"float32\") / 255\n",
    "    y = np_utils.to_categorical(y)\n",
    "    y = y.reshape(len(y), n, 1)\n",
    "    return x, y\n"
   ]
  },
  {
   "cell_type": "code",
   "execution_count": 3,
   "metadata": {},
   "outputs": [],
   "source": [
    "# load MNIST from server, limit to 100 images per class since we're not training on GPU\n",
    "(x_train, y_train), (x_test, y_test) = mnist.load_data()\n",
    "x_train, y_train = preprocess_data(x_train, y_train, 100)\n",
    "x_test, y_test = preprocess_data(x_test, y_test, 100)"
   ]
  },
  {
   "cell_type": "code",
   "execution_count": 4,
   "metadata": {},
   "outputs": [
    {
     "data": {
      "text/html": [
       "<div>\n",
       "<style scoped>\n",
       "    .dataframe tbody tr th:only-of-type {\n",
       "        vertical-align: middle;\n",
       "    }\n",
       "\n",
       "    .dataframe tbody tr th {\n",
       "        vertical-align: top;\n",
       "    }\n",
       "\n",
       "    .dataframe thead th {\n",
       "        text-align: right;\n",
       "    }\n",
       "</style>\n",
       "<table border=\"1\" class=\"dataframe\">\n",
       "  <thead>\n",
       "    <tr style=\"text-align: right;\">\n",
       "      <th></th>\n",
       "      <th>Type</th>\n",
       "      <th>Activation Function</th>\n",
       "      <th>Input Shape</th>\n",
       "      <th>Output Shape</th>\n",
       "    </tr>\n",
       "  </thead>\n",
       "  <tbody>\n",
       "    <tr>\n",
       "      <th>0</th>\n",
       "      <td>Input</td>\n",
       "      <td>None</td>\n",
       "      <td>None</td>\n",
       "      <td>(1, 28, 28)</td>\n",
       "    </tr>\n",
       "    <tr>\n",
       "      <th>1</th>\n",
       "      <td>Convolutional</td>\n",
       "      <td>Sigmoid</td>\n",
       "      <td>(1, 28, 28)</td>\n",
       "      <td>(3, 26, 26)</td>\n",
       "    </tr>\n",
       "    <tr>\n",
       "      <th>2</th>\n",
       "      <td>Reshape</td>\n",
       "      <td>Linear</td>\n",
       "      <td>(3, 26, 26)</td>\n",
       "      <td>(2028, 1)</td>\n",
       "    </tr>\n",
       "    <tr>\n",
       "      <th>3</th>\n",
       "      <td>Dense</td>\n",
       "      <td>Sigmoid</td>\n",
       "      <td>(2028, 1)</td>\n",
       "      <td>(20, 1)</td>\n",
       "    </tr>\n",
       "    <tr>\n",
       "      <th>4</th>\n",
       "      <td>Dense</td>\n",
       "      <td>Sigmoid</td>\n",
       "      <td>(20, 1)</td>\n",
       "      <td>(15, 1)</td>\n",
       "    </tr>\n",
       "    <tr>\n",
       "      <th>5</th>\n",
       "      <td>Dense</td>\n",
       "      <td>Sigmoid</td>\n",
       "      <td>(15, 1)</td>\n",
       "      <td>(10, 1)</td>\n",
       "    </tr>\n",
       "  </tbody>\n",
       "</table>\n",
       "</div>"
      ],
      "text/plain": [
       "            Type Activation Function  Input Shape Output Shape\n",
       "0          Input                None         None  (1, 28, 28)\n",
       "1  Convolutional             Sigmoid  (1, 28, 28)  (3, 26, 26)\n",
       "2        Reshape              Linear  (3, 26, 26)    (2028, 1)\n",
       "3          Dense             Sigmoid    (2028, 1)      (20, 1)\n",
       "4          Dense             Sigmoid      (20, 1)      (15, 1)\n",
       "5          Dense             Sigmoid      (15, 1)      (10, 1)"
      ]
     },
     "execution_count": 4,
     "metadata": {},
     "output_type": "execute_result"
    }
   ],
   "source": [
    "model = NeuralNetwork(loss_f='MSE')\n",
    "\n",
    "model.add_layer(Input(input_shape=x_train.shape[1:]))\n",
    "model.add_layer(Convolutional(kernel_size=3, depth=3, act_f='sigmoid'))\n",
    "model.add_layer(Reshape())\n",
    "model.add_layer(Dense(n_neur=20, act_f='sigmoid'))\n",
    "model.add_layer(Dense(n_neur=15, act_f='sigmoid'))\n",
    "model.add_layer(Dense(n_neur=2, act_f='sigmoid'))\n",
    "\n",
    "model.summary()"
   ]
  },
  {
   "cell_type": "code",
   "execution_count": 5,
   "metadata": {},
   "outputs": [
    {
     "ename": "KeyboardInterrupt",
     "evalue": "",
     "output_type": "error",
     "traceback": [
      "\u001b[1;31m---------------------------------------------------------------------------\u001b[0m",
      "\u001b[1;31mKeyboardInterrupt\u001b[0m                         Traceback (most recent call last)",
      "\u001b[1;32mc:\\Users\\msahr\\Desktop\\Projects\\Python\\JupyterLab\\Neural-Network-from-scratch\\cnn.ipynb Celda 5\u001b[0m in \u001b[0;36m<cell line: 1>\u001b[1;34m()\u001b[0m\n\u001b[1;32m----> <a href='vscode-notebook-cell:/c%3A/Users/msahr/Desktop/Projects/Python/JupyterLab/Neural-Network-from-scratch/cnn.ipynb#ch0000004?line=0'>1</a>\u001b[0m loss \u001b[39m=\u001b[39m model\u001b[39m.\u001b[39;49mfit(x_train, y_train, epochs\u001b[39m=\u001b[39;49m\u001b[39m500\u001b[39;49m, lr\u001b[39m=\u001b[39;49m\u001b[39m0.01\u001b[39;49m)\n\u001b[0;32m      <a href='vscode-notebook-cell:/c%3A/Users/msahr/Desktop/Projects/Python/JupyterLab/Neural-Network-from-scratch/cnn.ipynb#ch0000004?line=1'>2</a>\u001b[0m plt\u001b[39m.\u001b[39mfigure(figsize\u001b[39m=\u001b[39m(\u001b[39m10\u001b[39m, \u001b[39m6\u001b[39m))\n\u001b[0;32m      <a href='vscode-notebook-cell:/c%3A/Users/msahr/Desktop/Projects/Python/JupyterLab/Neural-Network-from-scratch/cnn.ipynb#ch0000004?line=2'>3</a>\u001b[0m plt\u001b[39m.\u001b[39mplot(\u001b[39mlist\u001b[39m(\u001b[39mrange\u001b[39m(\u001b[39mlen\u001b[39m(loss))), loss)\n",
      "File \u001b[1;32mc:\\Users\\msahr\\Desktop\\Projects\\Python\\JupyterLab\\Neural-Network-from-scratch\\nn\\neural_network.py:27\u001b[0m, in \u001b[0;36mNeuralNetwork.fit\u001b[1;34m(self, X, Y, epochs, lr)\u001b[0m\n\u001b[0;32m     25\u001b[0m out \u001b[39m=\u001b[39m x\n\u001b[0;32m     26\u001b[0m \u001b[39mfor\u001b[39;00m layer \u001b[39min\u001b[39;00m \u001b[39mself\u001b[39m\u001b[39m.\u001b[39mlayers[\u001b[39m1\u001b[39m:]:\n\u001b[1;32m---> 27\u001b[0m     out \u001b[39m=\u001b[39m layer\u001b[39m.\u001b[39;49mforward(out)\n\u001b[0;32m     29\u001b[0m \u001b[39m# error\u001b[39;00m\n\u001b[0;32m     30\u001b[0m error \u001b[39m+\u001b[39m\u001b[39m=\u001b[39m \u001b[39mself\u001b[39m\u001b[39m.\u001b[39mloss_f\u001b[39m.\u001b[39mloss(y, out)\n",
      "File \u001b[1;32mc:\\Users\\msahr\\Desktop\\Projects\\Python\\JupyterLab\\Neural-Network-from-scratch\\nn\\layers.py:104\u001b[0m, in \u001b[0;36mConvolutional.forward\u001b[1;34m(self, input)\u001b[0m\n\u001b[0;32m    101\u001b[0m         b \u001b[39m=\u001b[39m \u001b[39mself\u001b[39m\u001b[39m.\u001b[39mb[d]\n\u001b[0;32m    102\u001b[0m         kx \u001b[39m=\u001b[39m signal\u001b[39m.\u001b[39mcorrelate2d(\n\u001b[0;32m    103\u001b[0m             \u001b[39mself\u001b[39m\u001b[39m.\u001b[39minput[i_d],  \u001b[39mself\u001b[39m\u001b[39m.\u001b[39mK[d, i_d], \u001b[39m'\u001b[39m\u001b[39mvalid\u001b[39m\u001b[39m'\u001b[39m)\n\u001b[1;32m--> 104\u001b[0m         \u001b[39mself\u001b[39m\u001b[39m.\u001b[39moutput[d] \u001b[39m=\u001b[39m \u001b[39mself\u001b[39;49m\u001b[39m.\u001b[39;49mact_f\u001b[39m.\u001b[39;49mactivation(kx \u001b[39m+\u001b[39;49m b)\n\u001b[0;32m    105\u001b[0m \u001b[39mreturn\u001b[39;00m \u001b[39mself\u001b[39m\u001b[39m.\u001b[39moutput\n",
      "File \u001b[1;32mc:\\Users\\msahr\\Desktop\\Projects\\Python\\JupyterLab\\Neural-Network-from-scratch\\nn\\activation.py:57\u001b[0m, in \u001b[0;36mSigmoid.__init__.<locals>.sigmoid\u001b[1;34m(x)\u001b[0m\n\u001b[0;32m     56\u001b[0m \u001b[39mdef\u001b[39;00m \u001b[39msigmoid\u001b[39m(x):\n\u001b[1;32m---> 57\u001b[0m     \u001b[39mreturn\u001b[39;00m \u001b[39m1\u001b[39m \u001b[39m/\u001b[39m (\u001b[39m1\u001b[39m \u001b[39m+\u001b[39m np\u001b[39m.\u001b[39;49mexp(\u001b[39m-\u001b[39;49mx))\n",
      "\u001b[1;31mKeyboardInterrupt\u001b[0m: "
     ]
    }
   ],
   "source": [
    "loss = model.fit(x_train, y_train, epochs=500, lr=0.01)\n",
    "plt.figure(figsize=(10, 6))\n",
    "plt.plot(list(range(len(loss))), loss)\n",
    "plt.title('Loss curve')\n",
    "plt.show()"
   ]
  },
  {
   "cell_type": "code",
   "execution_count": null,
   "metadata": {},
   "outputs": [],
   "source": [
    "yp = model.predict(x_test)\n",
    "count = 0\n",
    "for i in range(len(yp)):\n",
    "    pred = np.argmax(yp[i])\n",
    "    true = np.argmax(y_test[i])\n",
    "    if pred == true: count = count + 1\n",
    "\n",
    "print(count / len(yp) * 100)"
   ]
  },
  {
   "cell_type": "code",
   "execution_count": null,
   "metadata": {},
   "outputs": [],
   "source": [
    "fig, axes = plt.subplots(10,10, figsize=(20,20))\n",
    "fig.tight_layout()\n",
    "for i,ax in enumerate(axes.flat):\n",
    "    ax.imshow(x_test[i][0])\n",
    "    ax.title.set_text(f'Prediction: {np.argmax(yp[i])}')"
   ]
  }
 ],
 "metadata": {
  "kernelspec": {
   "display_name": "Python 3.10.6 64-bit (windows store)",
   "language": "python",
   "name": "python3"
  },
  "language_info": {
   "codemirror_mode": {
    "name": "ipython",
    "version": 3
   },
   "file_extension": ".py",
   "mimetype": "text/x-python",
   "name": "python",
   "nbconvert_exporter": "python",
   "pygments_lexer": "ipython3",
   "version": "3.10.6"
  },
  "orig_nbformat": 4,
  "vscode": {
   "interpreter": {
    "hash": "f6cd4f1a4d690f61f0a66f0d752ec615604a1e9c7dfcdfc555308c3b0255f392"
   }
  }
 },
 "nbformat": 4,
 "nbformat_minor": 2
}
